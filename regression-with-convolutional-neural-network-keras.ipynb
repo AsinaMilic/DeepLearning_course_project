{
 "cells": [
  {
   "cell_type": "code",
   "execution_count": 2,
   "metadata": {
    "_cell_guid": "b1076dfc-b9ad-4769-8c92-a6c4dae69d19",
    "_uuid": "8f2839f25d086af736a60e9eeb907d3b93b6e0e5"
   },
   "outputs": [],
   "source": [
    "import numpy as np \n",
    "import pandas as pd \n",
    "import seaborn as sns"
   ]
  },
  {
   "cell_type": "code",
   "execution_count": 3,
   "metadata": {
    "_cell_guid": "79c7e3d0-c299-4dcb-8224-4455121ee9b0",
    "_uuid": "d629ff2d2480ee46fbb7e2d37f6b5fab8052498a"
   },
   "outputs": [],
   "source": [
    "data = pd.read_csv(\"C:\\\\Users\\Admin\\\\Documents\\\\DL_course_project\\\\train.csv\")"
   ]
  },
  {
   "cell_type": "code",
   "execution_count": 4,
   "metadata": {
    "_cell_guid": "79c7e3d0-c299-4dcb-8224-4455121ee9b0",
    "_uuid": "d629ff2d2480ee46fbb7e2d37f6b5fab8052498a"
   },
   "outputs": [],
   "source": [
    "dtest = pd.read_csv(\"C:\\\\Users\\Admin\\\\Documents\\\\DL_course_project\\\\test.csv\")"
   ]
  },
  {
   "cell_type": "markdown",
   "metadata": {},
   "source": [
    "### Missing Values\n",
    "\n",
    "* No missing values"
   ]
  },
  {
   "cell_type": "code",
   "execution_count": 5,
   "metadata": {},
   "outputs": [
    {
     "name": "stdout",
     "output_type": "stream",
     "text": [
      "0 0\n"
     ]
    }
   ],
   "source": [
    "# make a list of the variables that contain missing values\n",
    "vars_with_na = data.columns[data.isnull().any()].tolist()\n",
    "vars_with_na_test = dtest.columns[dtest.isnull().any()].tolist()\n",
    "print (len(vars_with_na), len(vars_with_na_test))"
   ]
  },
  {
   "cell_type": "markdown",
   "metadata": {},
   "source": [
    "### Group the Data [train and test]"
   ]
  },
  {
   "cell_type": "code",
   "execution_count": 6,
   "metadata": {},
   "outputs": [],
   "source": [
    "train_test_data = [data, dtest]"
   ]
  },
  {
   "cell_type": "code",
   "execution_count": 7,
   "metadata": {},
   "outputs": [
    {
     "name": "stdout",
     "output_type": "stream",
     "text": [
      "Number of numerical variables:  370\n",
      "Number of numerical variables:  369\n"
     ]
    }
   ],
   "source": [
    "# list of numerical variables\n",
    "for dataset in train_test_data:\n",
    "    num_vars = [var for var in dataset.columns if dataset[var].dtypes != 'O']\n",
    "\n",
    "    print('Number of numerical variables: ', len(num_vars))"
   ]
  },
  {
   "cell_type": "markdown",
   "metadata": {},
   "source": [
    "### Check for value greater than 1"
   ]
  },
  {
   "cell_type": "code",
   "execution_count": 8,
   "metadata": {},
   "outputs": [],
   "source": [
    "num_vars = [var for var in data.columns if data[var].dtypes != 'O']\n",
    "Xdatanum = data[num_vars].drop([\"ID\", \"y\"], axis = 1)\n",
    "for var in Xdatanum.columns:\n",
    "    if Xdatanum[var].max()>1:\n",
    "        print (\"there are value greater than 1\")"
   ]
  },
  {
   "cell_type": "code",
   "execution_count": 9,
   "metadata": {},
   "outputs": [
    {
     "name": "stdout",
     "output_type": "stream",
     "text": [
      "Number of categorical variables:  8\n"
     ]
    },
    {
     "data": {
      "text/html": [
       "<div>\n",
       "<style scoped>\n",
       "    .dataframe tbody tr th:only-of-type {\n",
       "        vertical-align: middle;\n",
       "    }\n",
       "\n",
       "    .dataframe tbody tr th {\n",
       "        vertical-align: top;\n",
       "    }\n",
       "\n",
       "    .dataframe thead th {\n",
       "        text-align: right;\n",
       "    }\n",
       "</style>\n",
       "<table border=\"1\" class=\"dataframe\">\n",
       "  <thead>\n",
       "    <tr style=\"text-align: right;\">\n",
       "      <th></th>\n",
       "      <th>X0</th>\n",
       "      <th>X1</th>\n",
       "      <th>X2</th>\n",
       "      <th>X3</th>\n",
       "      <th>X4</th>\n",
       "      <th>X5</th>\n",
       "      <th>X6</th>\n",
       "      <th>X8</th>\n",
       "    </tr>\n",
       "  </thead>\n",
       "  <tbody>\n",
       "    <tr>\n",
       "      <td>0</td>\n",
       "      <td>k</td>\n",
       "      <td>v</td>\n",
       "      <td>at</td>\n",
       "      <td>a</td>\n",
       "      <td>d</td>\n",
       "      <td>u</td>\n",
       "      <td>j</td>\n",
       "      <td>o</td>\n",
       "    </tr>\n",
       "    <tr>\n",
       "      <td>1</td>\n",
       "      <td>k</td>\n",
       "      <td>t</td>\n",
       "      <td>av</td>\n",
       "      <td>e</td>\n",
       "      <td>d</td>\n",
       "      <td>y</td>\n",
       "      <td>l</td>\n",
       "      <td>o</td>\n",
       "    </tr>\n",
       "    <tr>\n",
       "      <td>2</td>\n",
       "      <td>az</td>\n",
       "      <td>w</td>\n",
       "      <td>n</td>\n",
       "      <td>c</td>\n",
       "      <td>d</td>\n",
       "      <td>x</td>\n",
       "      <td>j</td>\n",
       "      <td>x</td>\n",
       "    </tr>\n",
       "    <tr>\n",
       "      <td>3</td>\n",
       "      <td>az</td>\n",
       "      <td>t</td>\n",
       "      <td>n</td>\n",
       "      <td>f</td>\n",
       "      <td>d</td>\n",
       "      <td>x</td>\n",
       "      <td>l</td>\n",
       "      <td>e</td>\n",
       "    </tr>\n",
       "    <tr>\n",
       "      <td>4</td>\n",
       "      <td>az</td>\n",
       "      <td>v</td>\n",
       "      <td>n</td>\n",
       "      <td>f</td>\n",
       "      <td>d</td>\n",
       "      <td>h</td>\n",
       "      <td>d</td>\n",
       "      <td>n</td>\n",
       "    </tr>\n",
       "  </tbody>\n",
       "</table>\n",
       "</div>"
      ],
      "text/plain": [
       "   X0 X1  X2 X3 X4 X5 X6 X8\n",
       "0   k  v  at  a  d  u  j  o\n",
       "1   k  t  av  e  d  y  l  o\n",
       "2  az  w   n  c  d  x  j  x\n",
       "3  az  t   n  f  d  x  l  e\n",
       "4  az  v   n  f  d  h  d  n"
      ]
     },
     "execution_count": 9,
     "metadata": {},
     "output_type": "execute_result"
    }
   ],
   "source": [
    "# list of categorical variables\n",
    "cat_vars = [var for var in data.columns if data[var].dtypes == 'O']\n",
    "\n",
    "print('Number of categorical variables: ', len(cat_vars))\n",
    "\n",
    "# visualise the numerical variables\n",
    "data[cat_vars].head()"
   ]
  },
  {
   "cell_type": "markdown",
   "metadata": {},
   "source": [
    "### Looking at individual plot\n",
    "\n",
    "* change the label column"
   ]
  },
  {
   "cell_type": "code",
   "execution_count": 11,
   "metadata": {},
   "outputs": [
    {
     "data": {
      "text/plain": [
       "<matplotlib.axes._subplots.AxesSubplot at 0x7fb02355cd30>"
      ]
     },
     "execution_count": 11,
     "metadata": {},
     "output_type": "execute_result"
    },
    {
     "data": {
      "image/png": "[encoded data removed]",
      "text/plain": [
       "<Figure size 432x288 with 1 Axes>"
      ]
     },
     "metadata": {
      "needs_background": "light"
     },
     "output_type": "display_data"
    }
   ],
   "source": [
    "sns.boxplot(x = data[\"X0\"] , y = \"y\" , data= data)"
   ]
  },
  {
   "cell_type": "code",
   "execution_count": 12,
   "metadata": {},
   "outputs": [
    {
     "data": {
      "text/plain": [
       "<matplotlib.axes._subplots.AxesSubplot at 0x7fb01595ceb8>"
      ]
     },
     "execution_count": 12,
     "metadata": {},
     "output_type": "execute_result"
    },
    {
     "data": {
      "image/png": "[encoded data removed]",
      "text/plain": [
       "<Figure size 432x288 with 1 Axes>"
      ]
     },
     "metadata": {
      "needs_background": "light"
     },
     "output_type": "display_data"
    }
   ],
   "source": [
    "sns.scatterplot(x = data[\"X4\"] , y = \"y\" , data= data)"
   ]
  },
  {
   "cell_type": "markdown",
   "metadata": {},
   "source": [
    "### Suspicious data"
   ]
  },
  {
   "cell_type": "code",
   "execution_count": 13,
   "metadata": {},
   "outputs": [
    {
     "data": {
      "text/html": [
       "<div>\n",
       "<style scoped>\n",
       "    .dataframe tbody tr th:only-of-type {\n",
       "        vertical-align: middle;\n",
       "    }\n",
       "\n",
       "    .dataframe tbody tr th {\n",
       "        vertical-align: top;\n",
       "    }\n",
       "\n",
       "    .dataframe thead th {\n",
       "        text-align: right;\n",
       "    }\n",
       "</style>\n",
       "<table border=\"1\" class=\"dataframe\">\n",
       "  <thead>\n",
       "    <tr style=\"text-align: right;\">\n",
       "      <th></th>\n",
       "      <th>X11</th>\n",
       "      <th>X93</th>\n",
       "      <th>X107</th>\n",
       "      <th>X233</th>\n",
       "      <th>X235</th>\n",
       "      <th>X268</th>\n",
       "      <th>X289</th>\n",
       "      <th>X290</th>\n",
       "      <th>X293</th>\n",
       "      <th>X297</th>\n",
       "      <th>X330</th>\n",
       "      <th>X347</th>\n",
       "    </tr>\n",
       "  </thead>\n",
       "  <tbody>\n",
       "    <tr>\n",
       "      <td>count</td>\n",
       "      <td>4209.0</td>\n",
       "      <td>4209.0</td>\n",
       "      <td>4209.0</td>\n",
       "      <td>4209.0</td>\n",
       "      <td>4209.0</td>\n",
       "      <td>4209.0</td>\n",
       "      <td>4209.0</td>\n",
       "      <td>4209.0</td>\n",
       "      <td>4209.0</td>\n",
       "      <td>4209.0</td>\n",
       "      <td>4209.0</td>\n",
       "      <td>4209.0</td>\n",
       "    </tr>\n",
       "    <tr>\n",
       "      <td>mean</td>\n",
       "      <td>0.0</td>\n",
       "      <td>0.0</td>\n",
       "      <td>0.0</td>\n",
       "      <td>0.0</td>\n",
       "      <td>0.0</td>\n",
       "      <td>0.0</td>\n",
       "      <td>0.0</td>\n",
       "      <td>0.0</td>\n",
       "      <td>0.0</td>\n",
       "      <td>0.0</td>\n",
       "      <td>0.0</td>\n",
       "      <td>0.0</td>\n",
       "    </tr>\n",
       "    <tr>\n",
       "      <td>std</td>\n",
       "      <td>0.0</td>\n",
       "      <td>0.0</td>\n",
       "      <td>0.0</td>\n",
       "      <td>0.0</td>\n",
       "      <td>0.0</td>\n",
       "      <td>0.0</td>\n",
       "      <td>0.0</td>\n",
       "      <td>0.0</td>\n",
       "      <td>0.0</td>\n",
       "      <td>0.0</td>\n",
       "      <td>0.0</td>\n",
       "      <td>0.0</td>\n",
       "    </tr>\n",
       "    <tr>\n",
       "      <td>min</td>\n",
       "      <td>0.0</td>\n",
       "      <td>0.0</td>\n",
       "      <td>0.0</td>\n",
       "      <td>0.0</td>\n",
       "      <td>0.0</td>\n",
       "      <td>0.0</td>\n",
       "      <td>0.0</td>\n",
       "      <td>0.0</td>\n",
       "      <td>0.0</td>\n",
       "      <td>0.0</td>\n",
       "      <td>0.0</td>\n",
       "      <td>0.0</td>\n",
       "    </tr>\n",
       "    <tr>\n",
       "      <td>25%</td>\n",
       "      <td>0.0</td>\n",
       "      <td>0.0</td>\n",
       "      <td>0.0</td>\n",
       "      <td>0.0</td>\n",
       "      <td>0.0</td>\n",
       "      <td>0.0</td>\n",
       "      <td>0.0</td>\n",
       "      <td>0.0</td>\n",
       "      <td>0.0</td>\n",
       "      <td>0.0</td>\n",
       "      <td>0.0</td>\n",
       "      <td>0.0</td>\n",
       "    </tr>\n",
       "    <tr>\n",
       "      <td>50%</td>\n",
       "      <td>0.0</td>\n",
       "      <td>0.0</td>\n",
       "      <td>0.0</td>\n",
       "      <td>0.0</td>\n",
       "      <td>0.0</td>\n",
       "      <td>0.0</td>\n",
       "      <td>0.0</td>\n",
       "      <td>0.0</td>\n",
       "      <td>0.0</td>\n",
       "      <td>0.0</td>\n",
       "      <td>0.0</td>\n",
       "      <td>0.0</td>\n",
       "    </tr>\n",
       "    <tr>\n",
       "      <td>75%</td>\n",
       "      <td>0.0</td>\n",
       "      <td>0.0</td>\n",
       "      <td>0.0</td>\n",
       "      <td>0.0</td>\n",
       "      <td>0.0</td>\n",
       "      <td>0.0</td>\n",
       "      <td>0.0</td>\n",
       "      <td>0.0</td>\n",
       "      <td>0.0</td>\n",
       "      <td>0.0</td>\n",
       "      <td>0.0</td>\n",
       "      <td>0.0</td>\n",
       "    </tr>\n",
       "    <tr>\n",
       "      <td>max</td>\n",
       "      <td>0.0</td>\n",
       "      <td>0.0</td>\n",
       "      <td>0.0</td>\n",
       "      <td>0.0</td>\n",
       "      <td>0.0</td>\n",
       "      <td>0.0</td>\n",
       "      <td>0.0</td>\n",
       "      <td>0.0</td>\n",
       "      <td>0.0</td>\n",
       "      <td>0.0</td>\n",
       "      <td>0.0</td>\n",
       "      <td>0.0</td>\n",
       "    </tr>\n",
       "  </tbody>\n",
       "</table>\n",
       "</div>"
      ],
      "text/plain": [
       "          X11     X93    X107    X233    X235    X268    X289    X290    X293  \\\n",
       "count  4209.0  4209.0  4209.0  4209.0  4209.0  4209.0  4209.0  4209.0  4209.0   \n",
       "mean      0.0     0.0     0.0     0.0     0.0     0.0     0.0     0.0     0.0   \n",
       "std       0.0     0.0     0.0     0.0     0.0     0.0     0.0     0.0     0.0   \n",
       "min       0.0     0.0     0.0     0.0     0.0     0.0     0.0     0.0     0.0   \n",
       "25%       0.0     0.0     0.0     0.0     0.0     0.0     0.0     0.0     0.0   \n",
       "50%       0.0     0.0     0.0     0.0     0.0     0.0     0.0     0.0     0.0   \n",
       "75%       0.0     0.0     0.0     0.0     0.0     0.0     0.0     0.0     0.0   \n",
       "max       0.0     0.0     0.0     0.0     0.0     0.0     0.0     0.0     0.0   \n",
       "\n",
       "         X297    X330    X347  \n",
       "count  4209.0  4209.0  4209.0  \n",
       "mean      0.0     0.0     0.0  \n",
       "std       0.0     0.0     0.0  \n",
       "min       0.0     0.0     0.0  \n",
       "25%       0.0     0.0     0.0  \n",
       "50%       0.0     0.0     0.0  \n",
       "75%       0.0     0.0     0.0  \n",
       "max       0.0     0.0     0.0  "
      ]
     },
     "execution_count": 13,
     "metadata": {},
     "output_type": "execute_result"
    }
   ],
   "source": [
    "suspiciousData = []\n",
    "\n",
    "for col in data:\n",
    "    \n",
    "    if len(data[col].unique()) == 1:\n",
    "        suspiciousData.append(col)\n",
    "data[suspiciousData].describe()"
   ]
  },
  {
   "cell_type": "markdown",
   "metadata": {},
   "source": [
    "### Drop suspicious features"
   ]
  },
  {
   "cell_type": "code",
   "execution_count": 14,
   "metadata": {},
   "outputs": [],
   "source": [
    "for dataset in train_test_data:\n",
    "\n",
    "    dataset = dataset.drop(suspiciousData, 1, inplace = True)"
   ]
  },
  {
   "cell_type": "markdown",
   "metadata": {},
   "source": [
    "### Type of data"
   ]
  },
  {
   "cell_type": "code",
   "execution_count": 15,
   "metadata": {},
   "outputs": [
    {
     "data": {
      "text/html": [
       "<div>\n",
       "<style scoped>\n",
       "    .dataframe tbody tr th:only-of-type {\n",
       "        vertical-align: middle;\n",
       "    }\n",
       "\n",
       "    .dataframe tbody tr th {\n",
       "        vertical-align: top;\n",
       "    }\n",
       "\n",
       "    .dataframe thead th {\n",
       "        text-align: right;\n",
       "    }\n",
       "</style>\n",
       "<table border=\"1\" class=\"dataframe\">\n",
       "  <thead>\n",
       "    <tr style=\"text-align: right;\">\n",
       "      <th></th>\n",
       "      <th>Column Type</th>\n",
       "      <th>Count</th>\n",
       "    </tr>\n",
       "  </thead>\n",
       "  <tbody>\n",
       "    <tr>\n",
       "      <td>0</td>\n",
       "      <td>int64</td>\n",
       "      <td>357</td>\n",
       "    </tr>\n",
       "    <tr>\n",
       "      <td>1</td>\n",
       "      <td>float64</td>\n",
       "      <td>1</td>\n",
       "    </tr>\n",
       "    <tr>\n",
       "      <td>2</td>\n",
       "      <td>object</td>\n",
       "      <td>8</td>\n",
       "    </tr>\n",
       "  </tbody>\n",
       "</table>\n",
       "</div>"
      ],
      "text/plain": [
       "  Column Type  Count\n",
       "0       int64    357\n",
       "1     float64      1\n",
       "2      object      8"
      ]
     },
     "execution_count": 15,
     "metadata": {},
     "output_type": "execute_result"
    }
   ],
   "source": [
    "dtype_df = data.dtypes.reset_index()\n",
    "dtype_df.columns = [\"Count\", \"Column Type\"]\n",
    "dtype_df.groupby(\"Column Type\").aggregate('count').reset_index()"
   ]
  },
  {
   "cell_type": "markdown",
   "metadata": {},
   "source": [
    "## Target analysis"
   ]
  },
  {
   "cell_type": "code",
   "execution_count": 16,
   "metadata": {},
   "outputs": [
    {
     "data": {
      "text/plain": [
       "<matplotlib.axes._subplots.AxesSubplot at 0x7fb015a68ac8>"
      ]
     },
     "execution_count": 16,
     "metadata": {},
     "output_type": "execute_result"
    },
    {
     "data": {
      "image/png": "[encoded data removed]",
      "text/plain": [
       "<Figure size 432x288 with 1 Axes>"
      ]
     },
     "metadata": {
      "needs_background": "light"
     },
     "output_type": "display_data"
    }
   ],
   "source": [
    "sns.distplot(data[\"y\"])"
   ]
  },
  {
   "cell_type": "code",
   "execution_count": 17,
   "metadata": {},
   "outputs": [
    {
     "data": {
      "text/plain": [
       "count    4209.000000\n",
       "mean      100.669318\n",
       "std        12.679381\n",
       "min        72.110000\n",
       "25%        90.820000\n",
       "50%        99.150000\n",
       "75%       109.010000\n",
       "max       265.320000\n",
       "Name: y, dtype: float64"
      ]
     },
     "execution_count": 17,
     "metadata": {},
     "output_type": "execute_result"
    }
   ],
   "source": [
    "data[\"y\"].describe()"
   ]
  },
  {
   "cell_type": "markdown",
   "metadata": {},
   "source": [
    "## Categorical data"
   ]
  },
  {
   "cell_type": "code",
   "execution_count": 18,
   "metadata": {},
   "outputs": [
    {
     "name": "stdout",
     "output_type": "stream",
     "text": [
      "<class 'pandas.core.frame.DataFrame'>\n",
      "RangeIndex: 4209 entries, 0 to 4208\n",
      "Data columns (total 8 columns):\n",
      "X0    4209 non-null object\n",
      "X1    4209 non-null object\n",
      "X2    4209 non-null object\n",
      "X3    4209 non-null object\n",
      "X4    4209 non-null object\n",
      "X5    4209 non-null object\n",
      "X6    4209 non-null object\n",
      "X8    4209 non-null object\n",
      "dtypes: object(8)\n",
      "memory usage: 263.2+ KB\n"
     ]
    }
   ],
   "source": [
    "categoricalData = data[cat_vars]\n",
    "categoricalData.info()"
   ]
  },
  {
   "cell_type": "code",
   "execution_count": 19,
   "metadata": {},
   "outputs": [
    {
     "data": {
      "image/png": "[encoded data removed]",
      "text/plain": [
       "<Figure size 720x360 with 1 Axes>"
      ]
     },
     "metadata": {
      "needs_background": "light"
     },
     "output_type": "display_data"
    },
    {
     "data": {
      "image/png": "[encoded data removed]",
      "text/plain": [
       "<Figure size 720x360 with 1 Axes>"
      ]
     },
     "metadata": {
      "needs_background": "light"
     },
     "output_type": "display_data"
    },
    {
     "data": {
      "image/png": "[encoded data removed]",
      "text/plain": [
       "<Figure size 720x360 with 1 Axes>"
      ]
     },
     "metadata": {
      "needs_background": "light"
     },
     "output_type": "display_data"
    },
    {
     "data": {
      "image/png": "[encoded data removed]",
      "text/plain": [
       "<Figure size 720x360 with 1 Axes>"
      ]
     },
     "metadata": {
      "needs_background": "light"
     },
     "output_type": "display_data"
    },
    {
     "data": {
      "image/png": "[encoded data removed]",
      "text/plain": [
       "<Figure size 720x360 with 1 Axes>"
      ]
     },
     "metadata": {
      "needs_background": "light"
     },
     "output_type": "display_data"
    },
    {
     "data": {
      "image/png": "[encoded data removed]",
      "text/plain": [
       "<Figure size 720x360 with 1 Axes>"
      ]
     },
     "metadata": {
      "needs_background": "light"
     },
     "output_type": "display_data"
    },
    {
     "data": {
      "image/png": "[encoded data removed]",
      "text/plain": [
       "<Figure size 720x360 with 1 Axes>"
      ]
     },
     "metadata": {
      "needs_background": "light"
     },
     "output_type": "display_data"
    },
    {
     "data": {
      "image/png": "[encoded data removed]",
      "text/plain": [
       "<Figure size 720x360 with 1 Axes>"
      ]
     },
     "metadata": {
      "needs_background": "light"
     },
     "output_type": "display_data"
    }
   ],
   "source": [
    "for var in cat_vars:\n",
    "    fig, ax = plt.subplots(figsize=(10, 5))\n",
    "    sns.barplot(x = var, y = \"y\" , data = data)"
   ]
  },
  {
   "cell_type": "markdown",
   "metadata": {},
   "source": [
    "# Count encoder"
   ]
  },
  {
   "cell_type": "code",
   "execution_count": 20,
   "metadata": {},
   "outputs": [],
   "source": [
    "import category_encoders as ce\n",
    "\n",
    "# Create the encoder itself\n",
    "Count_enc = ce.CountEncoder(cols=cat_vars)\n",
    "# Fit the encoder using the categorical features \n",
    "Count_enc.fit(data[cat_vars], data[\"y\"])\n",
    "\n",
    "data = data.join(Count_enc.transform(data[cat_vars]).add_suffix('_count'))\n",
    "dtest = dtest.join(Count_enc.transform(dtest[cat_vars]).add_suffix('_count'))"
   ]
  },
  {
   "cell_type": "code",
   "execution_count": 21,
   "metadata": {},
   "outputs": [],
   "source": [
    "data = data.drop(data[cat_vars], axis = 1)\n",
    "dtest = dtest.drop(dtest[cat_vars], axis = 1)"
   ]
  },
  {
   "cell_type": "markdown",
   "metadata": {},
   "source": [
    "# Feature Scaling"
   ]
  },
  {
   "cell_type": "code",
   "execution_count": 22,
   "metadata": {},
   "outputs": [],
   "source": [
    "cat_count = ['X0_count', 'X1_count', 'X2_count', 'X3_count',\n",
    "       'X4_count', 'X5_count', 'X6_count', 'X8_count']"
   ]
  },
  {
   "cell_type": "code",
   "execution_count": 23,
   "metadata": {},
   "outputs": [
    {
     "name": "stdout",
     "output_type": "stream",
     "text": [
      "[ 360.  833. 1659. 1942. 4205.  231. 1042.  277.]\n"
     ]
    }
   ],
   "source": [
    "from sklearn.preprocessing import MinMaxScaler\n",
    "scaler = MinMaxScaler()\n",
    "scaler.fit(data[cat_count])\n",
    "data[cat_count] = scaler.transform(data[cat_count])\n",
    "dtest[cat_count] = scaler.transform(dtest[cat_count])\n",
    "print(scaler.data_max_)"
   ]
  },
  {
   "cell_type": "code",
   "execution_count": 24,
   "metadata": {},
   "outputs": [
    {
     "data": {
      "text/html": [
       "<div>\n",
       "<style scoped>\n",
       "    .dataframe tbody tr th:only-of-type {\n",
       "        vertical-align: middle;\n",
       "    }\n",
       "\n",
       "    .dataframe tbody tr th {\n",
       "        vertical-align: top;\n",
       "    }\n",
       "\n",
       "    .dataframe thead th {\n",
       "        text-align: right;\n",
       "    }\n",
       "</style>\n",
       "<table border=\"1\" class=\"dataframe\">\n",
       "  <thead>\n",
       "    <tr style=\"text-align: right;\">\n",
       "      <th></th>\n",
       "      <th>ID</th>\n",
       "      <th>y</th>\n",
       "      <th>X10</th>\n",
       "      <th>X12</th>\n",
       "      <th>X13</th>\n",
       "      <th>X14</th>\n",
       "      <th>X15</th>\n",
       "      <th>X16</th>\n",
       "      <th>X17</th>\n",
       "      <th>X18</th>\n",
       "      <th>...</th>\n",
       "      <th>X384</th>\n",
       "      <th>X385</th>\n",
       "      <th>X0_count</th>\n",
       "      <th>X1_count</th>\n",
       "      <th>X2_count</th>\n",
       "      <th>X3_count</th>\n",
       "      <th>X4_count</th>\n",
       "      <th>X5_count</th>\n",
       "      <th>X6_count</th>\n",
       "      <th>X8_count</th>\n",
       "    </tr>\n",
       "  </thead>\n",
       "  <tbody>\n",
       "    <tr>\n",
       "      <td>count</td>\n",
       "      <td>4209.000000</td>\n",
       "      <td>4209.000000</td>\n",
       "      <td>4209.000000</td>\n",
       "      <td>4209.000000</td>\n",
       "      <td>4209.000000</td>\n",
       "      <td>4209.000000</td>\n",
       "      <td>4209.000000</td>\n",
       "      <td>4209.000000</td>\n",
       "      <td>4209.000000</td>\n",
       "      <td>4209.000000</td>\n",
       "      <td>...</td>\n",
       "      <td>4209.000000</td>\n",
       "      <td>4209.000000</td>\n",
       "      <td>4209.000000</td>\n",
       "      <td>4209.000000</td>\n",
       "      <td>4209.000000</td>\n",
       "      <td>4209.000000</td>\n",
       "      <td>4209.000000</td>\n",
       "      <td>4209.000000</td>\n",
       "      <td>4209.000000</td>\n",
       "      <td>4209.000000</td>\n",
       "    </tr>\n",
       "    <tr>\n",
       "      <td>mean</td>\n",
       "      <td>4205.960798</td>\n",
       "      <td>100.669318</td>\n",
       "      <td>0.013305</td>\n",
       "      <td>0.075077</td>\n",
       "      <td>0.057971</td>\n",
       "      <td>0.428130</td>\n",
       "      <td>0.000475</td>\n",
       "      <td>0.002613</td>\n",
       "      <td>0.007603</td>\n",
       "      <td>0.007840</td>\n",
       "      <td>...</td>\n",
       "      <td>0.000475</td>\n",
       "      <td>0.001426</td>\n",
       "      <td>0.637250</td>\n",
       "      <td>0.590347</td>\n",
       "      <td>0.494428</td>\n",
       "      <td>0.637112</td>\n",
       "      <td>0.999050</td>\n",
       "      <td>0.846654</td>\n",
       "      <td>0.704728</td>\n",
       "      <td>0.495219</td>\n",
       "    </tr>\n",
       "    <tr>\n",
       "      <td>std</td>\n",
       "      <td>2437.608688</td>\n",
       "      <td>12.679381</td>\n",
       "      <td>0.114590</td>\n",
       "      <td>0.263547</td>\n",
       "      <td>0.233716</td>\n",
       "      <td>0.494867</td>\n",
       "      <td>0.021796</td>\n",
       "      <td>0.051061</td>\n",
       "      <td>0.086872</td>\n",
       "      <td>0.088208</td>\n",
       "      <td>...</td>\n",
       "      <td>0.021796</td>\n",
       "      <td>0.037734</td>\n",
       "      <td>0.304553</td>\n",
       "      <td>0.310549</td>\n",
       "      <td>0.415909</td>\n",
       "      <td>0.369128</td>\n",
       "      <td>0.030813</td>\n",
       "      <td>0.152854</td>\n",
       "      <td>0.316334</td>\n",
       "      <td>0.319015</td>\n",
       "    </tr>\n",
       "    <tr>\n",
       "      <td>min</td>\n",
       "      <td>0.000000</td>\n",
       "      <td>72.110000</td>\n",
       "      <td>0.000000</td>\n",
       "      <td>0.000000</td>\n",
       "      <td>0.000000</td>\n",
       "      <td>0.000000</td>\n",
       "      <td>0.000000</td>\n",
       "      <td>0.000000</td>\n",
       "      <td>0.000000</td>\n",
       "      <td>0.000000</td>\n",
       "      <td>...</td>\n",
       "      <td>0.000000</td>\n",
       "      <td>0.000000</td>\n",
       "      <td>0.000000</td>\n",
       "      <td>0.000000</td>\n",
       "      <td>0.000000</td>\n",
       "      <td>0.000000</td>\n",
       "      <td>0.000000</td>\n",
       "      <td>0.000000</td>\n",
       "      <td>0.000000</td>\n",
       "      <td>0.000000</td>\n",
       "    </tr>\n",
       "    <tr>\n",
       "      <td>25%</td>\n",
       "      <td>2095.000000</td>\n",
       "      <td>90.820000</td>\n",
       "      <td>0.000000</td>\n",
       "      <td>0.000000</td>\n",
       "      <td>0.000000</td>\n",
       "      <td>0.000000</td>\n",
       "      <td>0.000000</td>\n",
       "      <td>0.000000</td>\n",
       "      <td>0.000000</td>\n",
       "      <td>0.000000</td>\n",
       "      <td>...</td>\n",
       "      <td>0.000000</td>\n",
       "      <td>0.000000</td>\n",
       "      <td>0.484680</td>\n",
       "      <td>0.298795</td>\n",
       "      <td>0.159228</td>\n",
       "      <td>0.203183</td>\n",
       "      <td>1.000000</td>\n",
       "      <td>0.843478</td>\n",
       "      <td>0.462136</td>\n",
       "      <td>0.107345</td>\n",
       "    </tr>\n",
       "    <tr>\n",
       "      <td>50%</td>\n",
       "      <td>4220.000000</td>\n",
       "      <td>99.150000</td>\n",
       "      <td>0.000000</td>\n",
       "      <td>0.000000</td>\n",
       "      <td>0.000000</td>\n",
       "      <td>0.000000</td>\n",
       "      <td>0.000000</td>\n",
       "      <td>0.000000</td>\n",
       "      <td>0.000000</td>\n",
       "      <td>0.000000</td>\n",
       "      <td>...</td>\n",
       "      <td>0.000000</td>\n",
       "      <td>0.000000</td>\n",
       "      <td>0.746518</td>\n",
       "      <td>0.707229</td>\n",
       "      <td>0.298552</td>\n",
       "      <td>0.540584</td>\n",
       "      <td>1.000000</td>\n",
       "      <td>0.895652</td>\n",
       "      <td>0.595146</td>\n",
       "      <td>0.531073</td>\n",
       "    </tr>\n",
       "    <tr>\n",
       "      <td>75%</td>\n",
       "      <td>6314.000000</td>\n",
       "      <td>109.010000</td>\n",
       "      <td>0.000000</td>\n",
       "      <td>0.000000</td>\n",
       "      <td>0.000000</td>\n",
       "      <td>1.000000</td>\n",
       "      <td>0.000000</td>\n",
       "      <td>0.000000</td>\n",
       "      <td>0.000000</td>\n",
       "      <td>0.000000</td>\n",
       "      <td>...</td>\n",
       "      <td>0.000000</td>\n",
       "      <td>0.000000</td>\n",
       "      <td>0.869081</td>\n",
       "      <td>0.716867</td>\n",
       "      <td>1.000000</td>\n",
       "      <td>1.000000</td>\n",
       "      <td>1.000000</td>\n",
       "      <td>0.926087</td>\n",
       "      <td>0.997087</td>\n",
       "      <td>0.774011</td>\n",
       "    </tr>\n",
       "    <tr>\n",
       "      <td>max</td>\n",
       "      <td>8417.000000</td>\n",
       "      <td>265.320000</td>\n",
       "      <td>1.000000</td>\n",
       "      <td>1.000000</td>\n",
       "      <td>1.000000</td>\n",
       "      <td>1.000000</td>\n",
       "      <td>1.000000</td>\n",
       "      <td>1.000000</td>\n",
       "      <td>1.000000</td>\n",
       "      <td>1.000000</td>\n",
       "      <td>...</td>\n",
       "      <td>1.000000</td>\n",
       "      <td>1.000000</td>\n",
       "      <td>1.000000</td>\n",
       "      <td>1.000000</td>\n",
       "      <td>1.000000</td>\n",
       "      <td>1.000000</td>\n",
       "      <td>1.000000</td>\n",
       "      <td>1.000000</td>\n",
       "      <td>1.000000</td>\n",
       "      <td>1.000000</td>\n",
       "    </tr>\n",
       "  </tbody>\n",
       "</table>\n",
       "<p>8 rows × 366 columns</p>\n",
       "</div>"
      ],
      "text/plain": [
       "                ID            y          X10          X12          X13  \\\n",
       "count  4209.000000  4209.000000  4209.000000  4209.000000  4209.000000   \n",
       "mean   4205.960798   100.669318     0.013305     0.075077     0.057971   \n",
       "std    2437.608688    12.679381     0.114590     0.263547     0.233716   \n",
       "min       0.000000    72.110000     0.000000     0.000000     0.000000   \n",
       "25%    2095.000000    90.820000     0.000000     0.000000     0.000000   \n",
       "50%    4220.000000    99.150000     0.000000     0.000000     0.000000   \n",
       "75%    6314.000000   109.010000     0.000000     0.000000     0.000000   \n",
       "max    8417.000000   265.320000     1.000000     1.000000     1.000000   \n",
       "\n",
       "               X14          X15          X16          X17          X18  ...  \\\n",
       "count  4209.000000  4209.000000  4209.000000  4209.000000  4209.000000  ...   \n",
       "mean      0.428130     0.000475     0.002613     0.007603     0.007840  ...   \n",
       "std       0.494867     0.021796     0.051061     0.086872     0.088208  ...   \n",
       "min       0.000000     0.000000     0.000000     0.000000     0.000000  ...   \n",
       "25%       0.000000     0.000000     0.000000     0.000000     0.000000  ...   \n",
       "50%       0.000000     0.000000     0.000000     0.000000     0.000000  ...   \n",
       "75%       1.000000     0.000000     0.000000     0.000000     0.000000  ...   \n",
       "max       1.000000     1.000000     1.000000     1.000000     1.000000  ...   \n",
       "\n",
       "              X384         X385     X0_count     X1_count     X2_count  \\\n",
       "count  4209.000000  4209.000000  4209.000000  4209.000000  4209.000000   \n",
       "mean      0.000475     0.001426     0.637250     0.590347     0.494428   \n",
       "std       0.021796     0.037734     0.304553     0.310549     0.415909   \n",
       "min       0.000000     0.000000     0.000000     0.000000     0.000000   \n",
       "25%       0.000000     0.000000     0.484680     0.298795     0.159228   \n",
       "50%       0.000000     0.000000     0.746518     0.707229     0.298552   \n",
       "75%       0.000000     0.000000     0.869081     0.716867     1.000000   \n",
       "max       1.000000     1.000000     1.000000     1.000000     1.000000   \n",
       "\n",
       "          X3_count     X4_count     X5_count     X6_count     X8_count  \n",
       "count  4209.000000  4209.000000  4209.000000  4209.000000  4209.000000  \n",
       "mean      0.637112     0.999050     0.846654     0.704728     0.495219  \n",
       "std       0.369128     0.030813     0.152854     0.316334     0.319015  \n",
       "min       0.000000     0.000000     0.000000     0.000000     0.000000  \n",
       "25%       0.203183     1.000000     0.843478     0.462136     0.107345  \n",
       "50%       0.540584     1.000000     0.895652     0.595146     0.531073  \n",
       "75%       1.000000     1.000000     0.926087     0.997087     0.774011  \n",
       "max       1.000000     1.000000     1.000000     1.000000     1.000000  \n",
       "\n",
       "[8 rows x 366 columns]"
      ]
     },
     "execution_count": 24,
     "metadata": {},
     "output_type": "execute_result"
    }
   ],
   "source": [
    "data.describe()"
   ]
  },
  {
   "cell_type": "markdown",
   "metadata": {},
   "source": [
    "# Define X and y"
   ]
  },
  {
   "cell_type": "code",
   "execution_count": 26,
   "metadata": {},
   "outputs": [],
   "source": [
    "data =  data.drop(\"ID\" , axis = 1)"
   ]
  },
  {
   "cell_type": "code",
   "execution_count": 27,
   "metadata": {},
   "outputs": [
    {
     "data": {
      "text/plain": [
       "(4209, 364)"
      ]
     },
     "execution_count": 27,
     "metadata": {},
     "output_type": "execute_result"
    }
   ],
   "source": [
    "X = data.drop(\"y\" , axis =  1)\n",
    "y = data[\"y\"]\n",
    "X.shape"
   ]
  },
  {
   "cell_type": "code",
   "execution_count": 28,
   "metadata": {},
   "outputs": [],
   "source": [
    "X= X.values\n",
    "y = y.values"
   ]
  },
  {
   "cell_type": "markdown",
   "metadata": {},
   "source": [
    "## Train test split"
   ]
  },
  {
   "cell_type": "code",
   "execution_count": 29,
   "metadata": {},
   "outputs": [],
   "source": [
    "from sklearn.model_selection import train_test_split\n",
    "X_train, X_test, y_train, y_test = train_test_split(X,y, random_state=0, test_size = 0.2 )"
   ]
  },
  {
   "cell_type": "markdown",
   "metadata": {},
   "source": [
    "# Build and train the CNN model"
   ]
  },
  {
   "cell_type": "code",
   "execution_count": 30,
   "metadata": {},
   "outputs": [
    {
     "name": "stderr",
     "output_type": "stream",
     "text": [
      "Using TensorFlow backend.\n"
     ]
    }
   ],
   "source": [
    "from keras.models import Sequential\n",
    "from keras.layers import Dense, Dropout, Activation, Flatten\n",
    "from keras.layers import Conv2D, MaxPooling2D\n",
    "from keras import backend as K"
   ]
  },
  {
   "cell_type": "code",
   "execution_count": 31,
   "metadata": {},
   "outputs": [],
   "source": [
    "batch_size = 150\n",
    "epochs =100\n",
    "# input image dimensions\n",
    "img_rows, img_cols = 28, 13\n",
    "#inputshape = X.shape[1]"
   ]
  },
  {
   "cell_type": "code",
   "execution_count": 32,
   "metadata": {},
   "outputs": [
    {
     "name": "stdout",
     "output_type": "stream",
     "text": [
      "x_train shape: (3367, 28, 13, 1)\n",
      "3367 train samples\n",
      "842 test samples\n"
     ]
    }
   ],
   "source": [
    "if K.image_data_format() == 'channels_first':\n",
    "    X_train = X_train.reshape(X_train.shape[0], 1, img_rows, img_cols)\n",
    "    X_test = X_test.reshape(X_test.shape[0], 1, img_rows, img_cols)\n",
    "    input_shape = (1, img_rows, img_cols)\n",
    "else:\n",
    "    X_train = X_train.reshape(X_train.shape[0], img_rows, img_cols, 1)\n",
    "    X_test = X_test.reshape(X_test.shape[0], img_rows, img_cols, 1)\n",
    "    input_shape = (img_rows, img_cols, 1)\n",
    "\n",
    "X_train = X_train.astype('float32')\n",
    "X_test = X_test.astype('float32')\n",
    "\n",
    "print('x_train shape:', X_train.shape)\n",
    "print(X_train.shape[0], 'train samples')\n",
    "print(X_test.shape[0], 'test samples')"
   ]
  },
  {
   "cell_type": "code",
   "execution_count": 33,
   "metadata": {},
   "outputs": [],
   "source": [
    "def r2_keras(y_true, y_pred):\n",
    "    SS_res =  K.sum(K.square( y_true - y_pred )) \n",
    "    SS_tot = K.sum(K.square( y_true - K.mean(y_true) ) ) \n",
    "    return ( 1 - SS_res/(SS_tot + K.epsilon()) )"
   ]
  },
  {
   "cell_type": "code",
   "execution_count": 34,
   "metadata": {},
   "outputs": [
    {
     "data": {
      "text/plain": [
       "<matplotlib.image.AxesImage at 0x7fafe293f400>"
      ]
     },
     "execution_count": 34,
     "metadata": {},
     "output_type": "execute_result"
    },
    {
     "data": {
      "image/png": "[encoded data removed]",
      "text/plain": [
       "<Figure size 432x288 with 1 Axes>"
      ]
     },
     "metadata": {
      "needs_background": "light"
     },
     "output_type": "display_data"
    }
   ],
   "source": [
    "import matplotlib.pyplot as plt\n",
    "\n",
    "plt.imshow(X_train[0].reshape(28,13))"
   ]
  },
  {
   "cell_type": "code",
   "execution_count": 35,
   "metadata": {},
   "outputs": [
    {
     "name": "stdout",
     "output_type": "stream",
     "text": [
      "Model: \"sequential_1\"\n",
      "_________________________________________________________________\n",
      "Layer (type)                 Output Shape              Param #   \n",
      "=================================================================\n",
      "conv2d_1 (Conv2D)            (None, 26, 11, 64)        640       \n",
      "_________________________________________________________________\n",
      "max_pooling2d_1 (MaxPooling2 (None, 13, 5, 64)         0         \n",
      "_________________________________________________________________\n",
      "flatten_1 (Flatten)          (None, 4160)              0         \n",
      "_________________________________________________________________\n",
      "dense_1 (Dense)              (None, 512)               2130432   \n",
      "_________________________________________________________________\n",
      "dropout_1 (Dropout)          (None, 512)               0         \n",
      "_________________________________________________________________\n",
      "dense_2 (Dense)              (None, 256)               131328    \n",
      "_________________________________________________________________\n",
      "dense_3 (Dense)              (None, 128)               32896     \n",
      "_________________________________________________________________\n",
      "dense_4 (Dense)              (None, 1)                 129       \n",
      "=================================================================\n",
      "Total params: 2,295,425\n",
      "Trainable params: 2,295,425\n",
      "Non-trainable params: 0\n",
      "_________________________________________________________________\n"
     ]
    }
   ],
   "source": [
    "from keras.layers.normalization import BatchNormalization\n",
    "\n",
    "model = Sequential()\n",
    "#model.add(Dense(256, activation='relu', input_dim=366))\n",
    "model.add(Conv2D(64, (3, 3), activation='relu', input_shape = input_shape))\n",
    "#model.add(Conv2D(128, (3, 3), activation='relu'))\n",
    "#model.add(Conv2D(64, (3, 3), init='uniform'))\n",
    "\n",
    "model.add(MaxPooling2D(pool_size=(2, 2)))\n",
    "\n",
    "model.add(Flatten())\n",
    "\n",
    "model.add(Dense(512, activation='relu'))\n",
    "model.add(Dropout(0.1))\n",
    "\n",
    "model.add(Dense(256, activation='relu'))\n",
    "model.add(Dense(128, activation='relu'))\n",
    "\n",
    "model.add(Dense(1, activation='linear'))\n",
    "\n",
    "\n",
    "model.compile(loss='mean_squared_error', # one may use 'mean_absolute_error' as  mean_squared_error\n",
    "                  optimizer='adam',\n",
    "                  metrics=[r2_keras] # you can add several if needed\n",
    "                 )\n",
    "\n",
    "model.summary()"
   ]
  },
  {
   "cell_type": "code",
   "execution_count": 36,
   "metadata": {},
   "outputs": [
    {
     "name": "stdout",
     "output_type": "stream",
     "text": [
      "Train on 3367 samples, validate on 842 samples\n",
      "Epoch 1/100\n",
      " - 4s - loss: 3500.7546 - r2_keras: -2.2568e+01 - val_loss: 891.8138 - val_r2_keras: -4.1575e+00\n",
      "Epoch 2/100\n",
      " - 0s - loss: 327.2372 - r2_keras: -1.1247e+00 - val_loss: 206.2392 - val_r2_keras: -1.0581e-01\n",
      "Epoch 3/100\n",
      " - 0s - loss: 180.0225 - r2_keras: -2.0866e-01 - val_loss: 197.6296 - val_r2_keras: -5.8625e-02\n",
      "Epoch 4/100\n",
      " - 0s - loss: 155.0658 - r2_keras: -1.7774e-02 - val_loss: 180.4105 - val_r2_keras: 0.0469\n",
      "Epoch 5/100\n",
      " - 0s - loss: 137.6375 - r2_keras: 0.1014 - val_loss: 158.1995 - val_r2_keras: 0.1751\n",
      "Epoch 6/100\n",
      " - 0s - loss: 122.6041 - r2_keras: 0.2056 - val_loss: 143.9878 - val_r2_keras: 0.2582\n",
      "Epoch 7/100\n",
      " - 0s - loss: 108.1788 - r2_keras: 0.3019 - val_loss: 131.8276 - val_r2_keras: 0.3284\n",
      "Epoch 8/100\n",
      " - 0s - loss: 96.1756 - r2_keras: 0.3709 - val_loss: 125.2561 - val_r2_keras: 0.3659\n",
      "Epoch 9/100\n",
      " - 0s - loss: 91.0831 - r2_keras: 0.4105 - val_loss: 117.3626 - val_r2_keras: 0.4131\n",
      "Epoch 10/100\n",
      " - 0s - loss: 85.3847 - r2_keras: 0.4427 - val_loss: 113.7045 - val_r2_keras: 0.4350\n",
      "Epoch 11/100\n",
      " - 0s - loss: 86.1444 - r2_keras: 0.4341 - val_loss: 118.5546 - val_r2_keras: 0.4088\n",
      "Epoch 12/100\n",
      " - 0s - loss: 83.2097 - r2_keras: 0.4584 - val_loss: 114.7961 - val_r2_keras: 0.4298\n",
      "Epoch 13/100\n",
      " - 0s - loss: 81.6881 - r2_keras: 0.4650 - val_loss: 110.3166 - val_r2_keras: 0.4546\n",
      "Epoch 14/100\n",
      " - 0s - loss: 80.6808 - r2_keras: 0.4719 - val_loss: 110.1796 - val_r2_keras: 0.4541\n",
      "Epoch 15/100\n",
      " - 0s - loss: 79.1194 - r2_keras: 0.4835 - val_loss: 108.9972 - val_r2_keras: 0.4609\n",
      "Epoch 16/100\n",
      " - 0s - loss: 77.8433 - r2_keras: 0.4981 - val_loss: 109.2962 - val_r2_keras: 0.4602\n",
      "Epoch 17/100\n",
      " - 0s - loss: 79.5257 - r2_keras: 0.4833 - val_loss: 108.8980 - val_r2_keras: 0.4604\n",
      "Epoch 18/100\n",
      " - 0s - loss: 77.0623 - r2_keras: 0.5029 - val_loss: 107.4141 - val_r2_keras: 0.4700\n",
      "Epoch 19/100\n",
      " - 0s - loss: 76.1788 - r2_keras: 0.5102 - val_loss: 107.8673 - val_r2_keras: 0.4679\n",
      "Epoch 20/100\n",
      " - 0s - loss: 76.9439 - r2_keras: 0.5017 - val_loss: 106.9054 - val_r2_keras: 0.4715\n",
      "Epoch 21/100\n",
      " - 0s - loss: 76.0928 - r2_keras: 0.5018 - val_loss: 106.4145 - val_r2_keras: 0.4754\n",
      "Epoch 22/100\n",
      " - 0s - loss: 75.3598 - r2_keras: 0.5136 - val_loss: 107.1137 - val_r2_keras: 0.4722\n",
      "Epoch 23/100\n",
      " - 0s - loss: 75.6597 - r2_keras: 0.5115 - val_loss: 105.2556 - val_r2_keras: 0.4819\n",
      "Epoch 24/100\n",
      " - 0s - loss: 74.2616 - r2_keras: 0.5208 - val_loss: 112.6986 - val_r2_keras: 0.4350\n",
      "Epoch 25/100\n",
      " - 0s - loss: 76.5132 - r2_keras: 0.5002 - val_loss: 104.8773 - val_r2_keras: 0.4842\n",
      "Epoch 26/100\n",
      " - 0s - loss: 73.3681 - r2_keras: 0.5270 - val_loss: 105.2354 - val_r2_keras: 0.4825\n",
      "Epoch 27/100\n",
      " - 0s - loss: 73.6680 - r2_keras: 0.5225 - val_loss: 104.5859 - val_r2_keras: 0.4859\n",
      "Epoch 28/100\n",
      " - 0s - loss: 72.2392 - r2_keras: 0.5316 - val_loss: 107.0704 - val_r2_keras: 0.4725\n",
      "Epoch 29/100\n",
      " - 0s - loss: 73.3851 - r2_keras: 0.5309 - val_loss: 104.3978 - val_r2_keras: 0.4859\n",
      "Epoch 30/100\n",
      " - 0s - loss: 72.6969 - r2_keras: 0.5332 - val_loss: 103.8110 - val_r2_keras: 0.4901\n",
      "Epoch 31/100\n",
      " - 0s - loss: 73.6553 - r2_keras: 0.5273 - val_loss: 103.3766 - val_r2_keras: 0.4926\n",
      "Epoch 32/100\n",
      " - 0s - loss: 72.0476 - r2_keras: 0.5266 - val_loss: 103.8312 - val_r2_keras: 0.4908\n",
      "Epoch 33/100\n",
      " - 0s - loss: 74.0104 - r2_keras: 0.5226 - val_loss: 103.8671 - val_r2_keras: 0.4889\n",
      "Epoch 34/100\n",
      " - 0s - loss: 73.2320 - r2_keras: 0.5313 - val_loss: 103.4040 - val_r2_keras: 0.4919\n",
      "Epoch 35/100\n",
      " - 0s - loss: 72.7522 - r2_keras: 0.5273 - val_loss: 102.4507 - val_r2_keras: 0.4978\n",
      "Epoch 36/100\n",
      " - 0s - loss: 71.9842 - r2_keras: 0.5310 - val_loss: 103.6441 - val_r2_keras: 0.4915\n",
      "Epoch 37/100\n",
      " - 0s - loss: 70.7081 - r2_keras: 0.5444 - val_loss: 102.1765 - val_r2_keras: 0.4993\n",
      "Epoch 38/100\n",
      " - 0s - loss: 70.1245 - r2_keras: 0.5451 - val_loss: 102.2038 - val_r2_keras: 0.4997\n",
      "Epoch 39/100\n",
      " - 0s - loss: 73.9290 - r2_keras: 0.5242 - val_loss: 105.9455 - val_r2_keras: 0.4754\n",
      "Epoch 40/100\n",
      " - 0s - loss: 72.8256 - r2_keras: 0.5250 - val_loss: 103.3797 - val_r2_keras: 0.4933\n",
      "Epoch 41/100\n",
      " - 0s - loss: 69.9348 - r2_keras: 0.5509 - val_loss: 101.5157 - val_r2_keras: 0.5036\n",
      "Epoch 42/100\n",
      " - 0s - loss: 70.0943 - r2_keras: 0.5439 - val_loss: 102.4254 - val_r2_keras: 0.4994\n",
      "Epoch 43/100\n",
      " - 0s - loss: 70.0587 - r2_keras: 0.5451 - val_loss: 101.3289 - val_r2_keras: 0.5047\n",
      "Epoch 44/100\n",
      " - 0s - loss: 71.5252 - r2_keras: 0.5342 - val_loss: 102.6732 - val_r2_keras: 0.4985\n",
      "Epoch 45/100\n",
      " - 0s - loss: 68.2191 - r2_keras: 0.5566 - val_loss: 111.0390 - val_r2_keras: 0.4501\n",
      "Epoch 46/100\n",
      " - 0s - loss: 71.3520 - r2_keras: 0.5337 - val_loss: 124.8831 - val_r2_keras: 0.3606\n",
      "Epoch 47/100\n",
      " - 0s - loss: 75.4910 - r2_keras: 0.5089 - val_loss: 102.8925 - val_r2_keras: 0.4938\n",
      "Epoch 48/100\n",
      " - 0s - loss: 70.0501 - r2_keras: 0.5533 - val_loss: 102.5934 - val_r2_keras: 0.4990\n",
      "Epoch 49/100\n",
      " - 0s - loss: 70.8353 - r2_keras: 0.5426 - val_loss: 101.3181 - val_r2_keras: 0.5056\n",
      "Epoch 50/100\n",
      " - 0s - loss: 68.5139 - r2_keras: 0.5527 - val_loss: 101.8503 - val_r2_keras: 0.5015\n",
      "Epoch 51/100\n",
      " - 0s - loss: 68.7346 - r2_keras: 0.5473 - val_loss: 101.0774 - val_r2_keras: 0.5065\n",
      "Epoch 52/100\n",
      " - 0s - loss: 71.5079 - r2_keras: 0.5392 - val_loss: 103.9185 - val_r2_keras: 0.4880\n",
      "Epoch 53/100\n",
      " - 0s - loss: 68.4960 - r2_keras: 0.5587 - val_loss: 108.0076 - val_r2_keras: 0.4689\n",
      "Epoch 54/100\n",
      " - 0s - loss: 71.4331 - r2_keras: 0.5398 - val_loss: 104.2783 - val_r2_keras: 0.4902\n",
      "Epoch 55/100\n",
      " - 0s - loss: 70.4418 - r2_keras: 0.5517 - val_loss: 101.1668 - val_r2_keras: 0.5068\n",
      "Epoch 56/100\n",
      " - 0s - loss: 70.0317 - r2_keras: 0.5406 - val_loss: 102.2466 - val_r2_keras: 0.5011\n",
      "Epoch 57/100\n",
      " - 0s - loss: 67.9105 - r2_keras: 0.5579 - val_loss: 112.0807 - val_r2_keras: 0.4448\n",
      "Epoch 58/100\n",
      " - 0s - loss: 68.7808 - r2_keras: 0.5527 - val_loss: 100.9644 - val_r2_keras: 0.5077\n",
      "Epoch 59/100\n",
      " - 0s - loss: 67.8390 - r2_keras: 0.5633 - val_loss: 101.5355 - val_r2_keras: 0.5038\n",
      "Epoch 60/100\n",
      " - 0s - loss: 67.2588 - r2_keras: 0.5621 - val_loss: 114.6541 - val_r2_keras: 0.4305\n",
      "Epoch 61/100\n",
      " - 0s - loss: 69.5838 - r2_keras: 0.5493 - val_loss: 101.5569 - val_r2_keras: 0.5055\n",
      "Epoch 62/100\n",
      " - 0s - loss: 69.8180 - r2_keras: 0.5363 - val_loss: 105.2838 - val_r2_keras: 0.4850\n",
      "Epoch 63/100\n",
      " - 0s - loss: 68.1447 - r2_keras: 0.5571 - val_loss: 103.1671 - val_r2_keras: 0.4944\n",
      "Epoch 64/100\n",
      " - 0s - loss: 69.1301 - r2_keras: 0.5506 - val_loss: 100.9699 - val_r2_keras: 0.5094\n",
      "Epoch 65/100\n",
      " - 0s - loss: 71.8245 - r2_keras: 0.5332 - val_loss: 102.4831 - val_r2_keras: 0.5000\n",
      "Epoch 66/100\n",
      " - 0s - loss: 69.1052 - r2_keras: 0.5581 - val_loss: 100.5914 - val_r2_keras: 0.5106\n",
      "Epoch 67/100\n",
      " - 0s - loss: 67.7988 - r2_keras: 0.5617 - val_loss: 107.8207 - val_r2_keras: 0.4703\n",
      "Epoch 68/100\n",
      " - 0s - loss: 73.7861 - r2_keras: 0.5173 - val_loss: 108.0404 - val_r2_keras: 0.4696\n",
      "Epoch 69/100\n",
      " - 0s - loss: 67.6231 - r2_keras: 0.5577 - val_loss: 105.9747 - val_r2_keras: 0.4803\n",
      "Epoch 70/100\n",
      " - 0s - loss: 66.0977 - r2_keras: 0.5690 - val_loss: 101.1063 - val_r2_keras: 0.5083\n",
      "Epoch 71/100\n",
      " - 0s - loss: 66.5067 - r2_keras: 0.5676 - val_loss: 100.6620 - val_r2_keras: 0.5107\n",
      "Epoch 72/100\n",
      " - 0s - loss: 67.3315 - r2_keras: 0.5625 - val_loss: 101.9990 - val_r2_keras: 0.5027\n",
      "Epoch 73/100\n",
      " - 0s - loss: 65.4323 - r2_keras: 0.5758 - val_loss: 100.8064 - val_r2_keras: 0.5097\n",
      "Epoch 74/100\n",
      " - 0s - loss: 65.4145 - r2_keras: 0.5752 - val_loss: 103.4762 - val_r2_keras: 0.4956\n",
      "Epoch 75/100\n",
      " - 0s - loss: 65.1309 - r2_keras: 0.5804 - val_loss: 101.0233 - val_r2_keras: 0.5098\n",
      "Epoch 76/100\n",
      " - 0s - loss: 68.2747 - r2_keras: 0.5521 - val_loss: 104.0971 - val_r2_keras: 0.4886\n",
      "Epoch 77/100\n",
      " - 0s - loss: 70.5200 - r2_keras: 0.5366 - val_loss: 103.6155 - val_r2_keras: 0.4921\n",
      "Epoch 78/100\n",
      " - 0s - loss: 69.3653 - r2_keras: 0.5524 - val_loss: 114.1782 - val_r2_keras: 0.4343\n",
      "Epoch 79/100\n",
      " - 0s - loss: 75.8570 - r2_keras: 0.5083 - val_loss: 107.6924 - val_r2_keras: 0.4719\n",
      "Epoch 80/100\n",
      " - 0s - loss: 66.6897 - r2_keras: 0.5716 - val_loss: 100.6349 - val_r2_keras: 0.5114\n",
      "Epoch 81/100\n",
      " - 0s - loss: 65.9429 - r2_keras: 0.5775 - val_loss: 102.1275 - val_r2_keras: 0.5037\n",
      "Epoch 82/100\n",
      " - 0s - loss: 64.8942 - r2_keras: 0.5803 - val_loss: 101.4830 - val_r2_keras: 0.5055\n",
      "Epoch 83/100\n",
      " - 0s - loss: 64.0411 - r2_keras: 0.5812 - val_loss: 119.9703 - val_r2_keras: 0.4014\n",
      "Epoch 84/100\n",
      " - 0s - loss: 69.3945 - r2_keras: 0.5480 - val_loss: 105.4264 - val_r2_keras: 0.4856\n",
      "Epoch 85/100\n",
      " - 0s - loss: 68.5309 - r2_keras: 0.5542 - val_loss: 101.0997 - val_r2_keras: 0.5083\n",
      "Epoch 86/100\n",
      " - 0s - loss: 71.4096 - r2_keras: 0.5292 - val_loss: 101.5914 - val_r2_keras: 0.5046\n",
      "Epoch 87/100\n",
      " - 0s - loss: 68.1933 - r2_keras: 0.5611 - val_loss: 104.9422 - val_r2_keras: 0.4847\n",
      "Epoch 88/100\n",
      " - 0s - loss: 66.6571 - r2_keras: 0.5689 - val_loss: 107.2753 - val_r2_keras: 0.4692\n",
      "Epoch 89/100\n",
      " - 0s - loss: 66.5489 - r2_keras: 0.5654 - val_loss: 100.7118 - val_r2_keras: 0.5104\n",
      "Epoch 90/100\n",
      " - 0s - loss: 67.2279 - r2_keras: 0.5632 - val_loss: 102.2000 - val_r2_keras: 0.5019\n",
      "Epoch 91/100\n",
      " - 0s - loss: 65.5017 - r2_keras: 0.5744 - val_loss: 107.7572 - val_r2_keras: 0.4668\n",
      "Epoch 92/100\n",
      " - 0s - loss: 66.4054 - r2_keras: 0.5633 - val_loss: 105.8148 - val_r2_keras: 0.4830\n",
      "Epoch 93/100\n",
      " - 0s - loss: 64.6435 - r2_keras: 0.5773 - val_loss: 109.1355 - val_r2_keras: 0.4584\n",
      "Epoch 94/100\n",
      " - 0s - loss: 66.3270 - r2_keras: 0.5773 - val_loss: 100.7203 - val_r2_keras: 0.5103\n",
      "Epoch 95/100\n",
      " - 0s - loss: 69.6590 - r2_keras: 0.5510 - val_loss: 106.7285 - val_r2_keras: 0.4777\n",
      "Epoch 96/100\n",
      " - 0s - loss: 64.1877 - r2_keras: 0.5806 - val_loss: 103.5478 - val_r2_keras: 0.4928\n",
      "Epoch 97/100\n",
      " - 0s - loss: 63.2420 - r2_keras: 0.5975 - val_loss: 103.5840 - val_r2_keras: 0.4958\n",
      "Epoch 98/100\n",
      " - 0s - loss: 64.3380 - r2_keras: 0.5808 - val_loss: 105.3313 - val_r2_keras: 0.4855\n",
      "Epoch 99/100\n",
      " - 0s - loss: 65.0280 - r2_keras: 0.5687 - val_loss: 102.4304 - val_r2_keras: 0.5023\n",
      "Epoch 100/100\n",
      " - 0s - loss: 70.3363 - r2_keras: 0.5491 - val_loss: 101.9764 - val_r2_keras: 0.5054\n"
     ]
    }
   ],
   "source": [
    "model.fit(X_train, y_train,\n",
    "          batch_size=batch_size,\n",
    "          epochs=epochs,\n",
    "          verbose=2,\n",
    "          validation_data=(X_test, y_test))\n",
    "score = model.evaluate(X_test, y_test, verbose=0)"
   ]
  },
  {
   "cell_type": "code",
   "execution_count": 37,
   "metadata": {},
   "outputs": [
    {
     "name": "stdout",
     "output_type": "stream",
     "text": [
      "Test loss: [101.97639117614673, 0.5480872988700867]\n"
     ]
    }
   ],
   "source": [
    "print('Test loss:', score)"
   ]
  },
  {
   "cell_type": "markdown",
   "metadata": {},
   "source": [
    "# visualise the predictions and residuals"
   ]
  },
  {
   "cell_type": "code",
   "execution_count": 38,
   "metadata": {},
   "outputs": [
    {
     "data": {
      "text/plain": [
       "<matplotlib.collections.PathCollection at 0x7fafe00aa240>"
      ]
     },
     "execution_count": 38,
     "metadata": {},
     "output_type": "execute_result"
    },
    {
     "data": {
      "image/png": "[encoded data removed]",
      "text/plain": [
       "<Figure size 432x288 with 1 Axes>"
      ]
     },
     "metadata": {
      "needs_background": "light"
     },
     "output_type": "display_data"
    }
   ],
   "source": [
    "preds = model.predict(X_test)\n",
    "preds = preds[:,0]\n",
    "plt.scatter(y_test, preds)"
   ]
  },
  {
   "cell_type": "code",
   "execution_count": 39,
   "metadata": {},
   "outputs": [
    {
     "data": {
      "text/plain": [
       "<matplotlib.axes._subplots.AxesSubplot at 0x7fafe00dabe0>"
      ]
     },
     "execution_count": 39,
     "metadata": {},
     "output_type": "execute_result"
    },
    {
     "data": {
      "image/png": "[encoded data removed]",
      "text/plain": [
       "<Figure size 432x288 with 1 Axes>"
      ]
     },
     "metadata": {
      "needs_background": "light"
     },
     "output_type": "display_data"
    }
   ],
   "source": [
    "residuals = y_test - preds\n",
    "sns.distplot(residuals)"
   ]
  },
  {
   "cell_type": "code",
   "execution_count": 40,
   "metadata": {},
   "outputs": [
    {
     "data": {
      "text/plain": [
       "0.4497994035127404"
      ]
     },
     "execution_count": 40,
     "metadata": {},
     "output_type": "execute_result"
    }
   ],
   "source": [
    "from sklearn.metrics import r2_score\n",
    "r2_score(y_test, preds)  "
   ]
  },
  {
   "cell_type": "markdown",
   "metadata": {},
   "source": [
    "# testing"
   ]
  },
  {
   "cell_type": "code",
   "execution_count": 41,
   "metadata": {},
   "outputs": [
    {
     "data": {
      "text/plain": [
       "(4209, 364)"
      ]
     },
     "execution_count": 41,
     "metadata": {},
     "output_type": "execute_result"
    }
   ],
   "source": [
    "test_data = dtest.drop(\"ID\", axis=1).copy()\n",
    "#test_data = dtest[selectedFeatures].copy()\n",
    "\n",
    "X = test_data.values\n",
    "X.shape"
   ]
  },
  {
   "cell_type": "code",
   "execution_count": 42,
   "metadata": {},
   "outputs": [
    {
     "name": "stdout",
     "output_type": "stream",
     "text": [
      "X shape: (4209, 28, 13, 1)\n",
      "4209 test samples\n"
     ]
    }
   ],
   "source": [
    "if K.image_data_format() == 'channels_first':\n",
    "    X = X.reshape(X.shape[0], 1, img_rows, img_cols)\n",
    "    \n",
    "    input_shape = (1, img_rows, img_cols)\n",
    "else:\n",
    "    X = X.reshape(X.shape[0], img_rows, img_cols, 1)\n",
    "    \n",
    "    input_shape = (img_rows, img_cols, 1)\n",
    "\n",
    "X = X.astype('float32')\n",
    "\n",
    "print('X shape:', X.shape)\n",
    "\n",
    "print(X.shape[0], 'test samples')"
   ]
  },
  {
   "cell_type": "code",
   "execution_count": 43,
   "metadata": {},
   "outputs": [],
   "source": [
    "prediction = model.predict(X)"
   ]
  },
  {
   "cell_type": "code",
   "execution_count": 44,
   "metadata": {},
   "outputs": [],
   "source": [
    "prediction = prediction[:,0]"
   ]
  },
  {
   "cell_type": "code",
   "execution_count": 45,
   "metadata": {},
   "outputs": [
    {
     "name": "stdout",
     "output_type": "stream",
     "text": [
      "<class 'pandas.core.frame.DataFrame'>\n",
      "RangeIndex: 4209 entries, 0 to 4208\n",
      "Columns: 365 entries, ID to X8_count\n",
      "dtypes: float64(8), int64(357)\n",
      "memory usage: 11.7 MB\n"
     ]
    }
   ],
   "source": [
    "dtest.info()"
   ]
  },
  {
   "cell_type": "code",
   "execution_count": 46,
   "metadata": {},
   "outputs": [],
   "source": [
    "submission = pd.DataFrame({\n",
    "        \"ID\": dtest[\"ID\"],\n",
    "        \"y\": prediction\n",
    "    })\n",
    "\n",
    "submission.to_csv('submission_NNs.csv', index=False)"
   ]
  }
 ],
 "metadata": {
  "kernelspec": {
   "display_name": "Python 3",
   "language": "python",
   "name": "python3"
  },
  "language_info": {
   "codemirror_mode": {
    "name": "ipython",
    "version": 3
   },
   "file_extension": ".py",
   "mimetype": "text/x-python",
   "name": "python",
   "nbconvert_exporter": "python",
   "pygments_lexer": "ipython3",
   "version": "3.6.6"
  }
 },
 "nbformat": 4,
 "nbformat_minor": 1
}
